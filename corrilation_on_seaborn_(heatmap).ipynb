{
  "nbformat": 4,
  "nbformat_minor": 0,
  "metadata": {
    "colab": {
      "name": "corrilation on seaborn (heatmap).ipynb",
      "provenance": [],
      "authorship_tag": "ABX9TyM+FOeoSnzMLHkqAZroluhA",
      "include_colab_link": true
    },
    "kernelspec": {
      "name": "python3",
      "display_name": "Python 3"
    },
    "language_info": {
      "name": "python"
    }
  },
  "cells": [
    {
      "cell_type": "markdown",
      "metadata": {
        "id": "view-in-github",
        "colab_type": "text"
      },
      "source": [
        "<a href=\"https://colab.research.google.com/github/ajit04022000/Vizulation-/blob/main/corrilation_on_seaborn_(heatmap).ipynb\" target=\"_parent\"><img src=\"https://colab.research.google.com/assets/colab-badge.svg\" alt=\"Open In Colab\"/></a>"
      ]
    },
    {
      "cell_type": "code",
      "execution_count": null,
      "metadata": {
        "id": "qY1P5R5zF423"
      },
      "outputs": [],
      "source": [
        "cmaps['Perceptually Uniform Sequential'] = [\n",
        "            'viridis', 'plasma', 'inferno', 'magma', 'cividis']\n",
        "\n",
        "cmaps['Sequential'] = [\n",
        "            'Greys', 'Purples', 'Blues', 'Greens', 'Oranges', 'Reds',\n",
        "            'YlOrBr', 'YlOrRd', 'OrRd', 'PuRd', 'RdPu', 'BuPu',\n",
        "            'GnBu', 'PuBu', 'YlGnBu', 'PuBuGn', 'BuGn', 'YlGn']\n",
        "\n",
        "#sequestion = \n",
        "\n",
        "\n",
        "\n",
        "\n",
        "cmaps['Sequential (2)'] = [\n",
        "            'binary', 'gist_yarg', 'gist_gray', 'gray', 'bone', 'pink',\n",
        "            'spring', 'summer', 'autumn', 'winter', 'cool', 'Wistia',\n",
        "            'hot', 'afmhot', 'gist_heat', 'copper']\n",
        "\n",
        "\n",
        "cmaps['Diverging'] = [\n",
        "            'PiYG', 'PRGn', 'BrBG', 'PuOr', 'RdGy', 'RdBu',\n",
        "            'RdYlBu', 'RdYlGn', 'Spectral', 'coolwarm', 'bwr', 'seismic']\n",
        "\n",
        "\n",
        "\n",
        "\n",
        "cmaps['Cyclic'] = ['twilight', 'twilight_shifted', 'hsv']\n",
        "\n",
        "\n",
        "cmaps['Qualitative'] = ['Pastel1', 'Pastel2', 'Paired', 'Accent',\n",
        "                        'Dark2', 'Set1', 'Set2', 'Set3',\n",
        "                        'tab10', 'tab20', 'tab20b', 'tab20c']\n",
        "\n",
        "\n",
        "cmaps['Miscellaneous'] = [\n",
        "            'flag', 'prism', 'ocean', 'gist_earth', 'terrain', 'gist_stern',\n",
        "            'gnuplot', 'gnuplot2', 'CMRmap', 'cubehelix', 'brg',\n",
        "            'gist_rainbow', 'rainbow', 'jet', 'turbo', 'nipy_spectral',\n",
        "            'gist_ncar']"
      ]
    }
  ]
}